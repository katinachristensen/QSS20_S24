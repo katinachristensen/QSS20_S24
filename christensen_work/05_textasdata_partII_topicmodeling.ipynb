{
 "cells": [
  {
   "cell_type": "markdown",
   "metadata": {},
   "source": [
    "# Notebook for topic modeling "
   ]
  },
  {
   "cell_type": "markdown",
   "metadata": {},
   "source": [
    "# 0. Imports"
   ]
  },
  {
   "cell_type": "code",
   "execution_count": 2,
   "metadata": {},
   "outputs": [
    {
     "name": "stderr",
     "output_type": "stream",
     "text": [
      "[nltk_data] Downloading package stopwords to\n",
      "[nltk_data]     /Users/katinachristensen/nltk_data...\n",
      "[nltk_data]   Package stopwords is already up-to-date!\n"
     ]
    }
   ],
   "source": [
    "## load packages \n",
    "import pandas as pd\n",
    "import re\n",
    "import numpy as np\n",
    "\n",
    "## nltk imports\n",
    "#!pip install nltk # can install on terminal or by uncommenting this line\n",
    "#import nltk; nltk.download('punkt'); nltk.download('stopwords')\n",
    "from nltk.tokenize import word_tokenize, wordpunct_tokenize\n",
    "from nltk.corpus import stopwords\n",
    "from nltk.stem.porter import PorterStemmer\n",
    "import nltk\n",
    "nltk.download('stopwords')\n",
    "\n",
    "## sklearn imports\n",
    "from sklearn.feature_extraction.text import CountVectorizer\n",
    "\n",
    "## lda\n",
    "#!pip install gensim # can install by uncommenting this line\n",
    "from gensim import corpora\n",
    "import gensim\n",
    "\n",
    "## visualizing LDA--likely need to install\n",
    "#!pip install pyLDAvis # can install by uncommenting this line\n",
    "import pyLDAvis.gensim_models as gensimvis\n",
    "import pyLDAvis\n",
    "pyLDAvis.enable_notebook()\n",
    "\n",
    "## print mult things\n",
    "from IPython.core.interactiveshell import InteractiveShell\n",
    "InteractiveShell.ast_node_interactivity = \"all\"\n",
    "\n",
    "## random\n",
    "import random\n",
    "import string; punctlist = [char for char in string.punctuation] # list of english punctuation marks"
   ]
  },
  {
   "cell_type": "markdown",
   "metadata": {},
   "source": [
    "# 0. Load data"
   ]
  },
  {
   "cell_type": "code",
   "execution_count": 3,
   "metadata": {},
   "outputs": [
    {
     "data": {
      "text/html": [
       "<div>\n",
       "<style scoped>\n",
       "    .dataframe tbody tr th:only-of-type {\n",
       "        vertical-align: middle;\n",
       "    }\n",
       "\n",
       "    .dataframe tbody tr th {\n",
       "        vertical-align: top;\n",
       "    }\n",
       "\n",
       "    .dataframe thead th {\n",
       "        text-align: right;\n",
       "    }\n",
       "</style>\n",
       "<table border=\"1\" class=\"dataframe\">\n",
       "  <thead>\n",
       "    <tr style=\"text-align: right;\">\n",
       "      <th></th>\n",
       "      <th>id</th>\n",
       "      <th>name</th>\n",
       "      <th>name_upper</th>\n",
       "      <th>neighbourhood_group</th>\n",
       "      <th>price</th>\n",
       "    </tr>\n",
       "  </thead>\n",
       "  <tbody>\n",
       "    <tr>\n",
       "      <th>0</th>\n",
       "      <td>2539</td>\n",
       "      <td>Clean &amp; quiet apt home by the park</td>\n",
       "      <td>CLEAN &amp; QUIET APT HOME BY THE PARK</td>\n",
       "      <td>Brooklyn</td>\n",
       "      <td>149</td>\n",
       "    </tr>\n",
       "    <tr>\n",
       "      <th>1</th>\n",
       "      <td>2595</td>\n",
       "      <td>Skylit Midtown Castle</td>\n",
       "      <td>SKYLIT MIDTOWN CASTLE</td>\n",
       "      <td>Manhattan</td>\n",
       "      <td>225</td>\n",
       "    </tr>\n",
       "    <tr>\n",
       "      <th>2</th>\n",
       "      <td>3647</td>\n",
       "      <td>THE VILLAGE OF HARLEM....NEW YORK !</td>\n",
       "      <td>THE VILLAGE OF HARLEM....NEW YORK !</td>\n",
       "      <td>Manhattan</td>\n",
       "      <td>150</td>\n",
       "    </tr>\n",
       "    <tr>\n",
       "      <th>3</th>\n",
       "      <td>3831</td>\n",
       "      <td>Cozy Entire Floor of Brownstone</td>\n",
       "      <td>COZY ENTIRE FLOOR OF BROWNSTONE</td>\n",
       "      <td>Brooklyn</td>\n",
       "      <td>89</td>\n",
       "    </tr>\n",
       "    <tr>\n",
       "      <th>4</th>\n",
       "      <td>5022</td>\n",
       "      <td>Entire Apt: Spacious Studio/Loft by central park</td>\n",
       "      <td>ENTIRE APT: SPACIOUS STUDIO/LOFT BY CENTRAL PARK</td>\n",
       "      <td>Manhattan</td>\n",
       "      <td>80</td>\n",
       "    </tr>\n",
       "  </tbody>\n",
       "</table>\n",
       "</div>"
      ],
      "text/plain": [
       "     id                                              name  \\\n",
       "0  2539                Clean & quiet apt home by the park   \n",
       "1  2595                             Skylit Midtown Castle   \n",
       "2  3647               THE VILLAGE OF HARLEM....NEW YORK !   \n",
       "3  3831                   Cozy Entire Floor of Brownstone   \n",
       "4  5022  Entire Apt: Spacious Studio/Loft by central park   \n",
       "\n",
       "                                         name_upper neighbourhood_group  price  \n",
       "0                CLEAN & QUIET APT HOME BY THE PARK            Brooklyn    149  \n",
       "1                             SKYLIT MIDTOWN CASTLE           Manhattan    225  \n",
       "2               THE VILLAGE OF HARLEM....NEW YORK !           Manhattan    150  \n",
       "3                   COZY ENTIRE FLOOR OF BROWNSTONE            Brooklyn     89  \n",
       "4  ENTIRE APT: SPACIOUS STUDIO/LOFT BY CENTRAL PARK           Manhattan     80  "
      ]
     },
     "execution_count": 3,
     "metadata": {},
     "output_type": "execute_result"
    }
   ],
   "source": [
    "ab = pd.read_csv(\"../public_data/airbnb_text.zip\")\n",
    "ab.head()"
   ]
  },
  {
   "cell_type": "markdown",
   "metadata": {},
   "source": [
    "# 1. Preprocess documents\n",
    "\n",
    "In this case, each name/name_upper, or listing title, we're treating as a document"
   ]
  },
  {
   "cell_type": "markdown",
   "metadata": {},
   "source": [
    "## 1.1 Load stopwords list and augment with our own custom ones"
   ]
  },
  {
   "cell_type": "code",
   "execution_count": 5,
   "metadata": {},
   "outputs": [],
   "source": [
    "list_stopwords = stopwords.words(\"english\")\n",
    "\n",
    "custom_words_toadd = ['apartment', 'new york', 'nyc',\n",
    "                      'bronx', 'brooklyn',\n",
    "                     'manhattan', 'queens', \n",
    "                      'staten island']\n",
    "\n",
    "list_stopwords_new = list_stopwords + custom_words_toadd\n"
   ]
  },
  {
   "cell_type": "markdown",
   "metadata": {},
   "source": [
    "## 1.2 Remove stopwords from lowercase version of corpus\n"
   ]
  },
  {
   "cell_type": "code",
   "execution_count": 6,
   "metadata": {},
   "outputs": [
    {
     "data": {
      "text/plain": [
       "['clean & quiet apt home by the park',\n",
       " 'skylit midtown castle',\n",
       " 'the village of harlem....new york !',\n",
       " 'cozy entire floor of brownstone',\n",
       " 'entire apt: spacious studio/loft by central park']"
      ]
     },
     "execution_count": 6,
     "metadata": {},
     "output_type": "execute_result"
    },
    {
     "data": {
      "text/plain": [
       "['cozy', 'entire', 'floor', 'brownstone']"
      ]
     },
     "execution_count": 6,
     "metadata": {},
     "output_type": "execute_result"
    }
   ],
   "source": [
    "## convert to lowercase and a list\n",
    "corpus_lower = ab.name.str.lower().to_list()\n",
    "corpus_lower[0:5]\n",
    "\n",
    "## use wordpunct tokenize and filter out with one\n",
    "example_listing = corpus_lower[3]\n",
    "nostop_listing = [word for word in wordpunct_tokenize(example_listing) \n",
    "                          if word not in list_stopwords_new]\n",
    "nostop_listing"
   ]
  },
  {
   "cell_type": "markdown",
   "metadata": {},
   "source": [
    "## 1.3 stem and remove non-alpha\n",
    "\n",
    "Other contexts we may want to leave digits in"
   ]
  },
  {
   "cell_type": "code",
   "execution_count": 7,
   "metadata": {},
   "outputs": [
    {
     "data": {
      "text/plain": [
       "['cozi', 'entir', 'floor', 'brownston']"
      ]
     },
     "execution_count": 7,
     "metadata": {},
     "output_type": "execute_result"
    }
   ],
   "source": [
    "## initialize stemmer\n",
    "porter = PorterStemmer()\n",
    "\n",
    "## apply to one by iterating\n",
    "## over the tokens in the list\n",
    "example_listing_preprocess = [porter.stem(token) \n",
    "                            for token in nostop_listing \n",
    "                            if token.isalpha() and \n",
    "                            len(token) > 2]\n",
    "\n",
    "example_listing_preprocess"
   ]
  },
  {
   "cell_type": "code",
   "execution_count": 8,
   "metadata": {},
   "outputs": [
    {
     "data": {
      "text/plain": [
       "'cozy entire floor of brownstone'"
      ]
     },
     "execution_count": 8,
     "metadata": {},
     "output_type": "execute_result"
    },
    {
     "data": {
      "text/plain": [
       "['cozi', 'entir', 'floor', 'brownston']"
      ]
     },
     "execution_count": 8,
     "metadata": {},
     "output_type": "execute_result"
    }
   ],
   "source": [
    "example_listing\n",
    "example_listing_preprocess"
   ]
  },
  {
   "cell_type": "markdown",
   "metadata": {},
   "source": [
    "## 1.4 Activity 1\n",
    "\n",
    "The above example performed preprocessing on a single Airbnb listing. We want to generalize this preprocessing across all listings.\n",
    "\n",
    "- Embed step two (remove stopwords) and step three (stem) into one or two functions that take in a raw string (eg the raw text of an Airbnb review) and return a preprocessed string \n",
    "- Apply the function iteratively to preprocess all the texts in `corpus_lower`. Output could either be a list where each list element is a string of a list (e.g., `cozy brownstone apt`), or a list of lists where each element is a tokenized string (e.g., `['cozy', 'brownstone', 'apt'])`\n",
    "\n",
    "Output is flexible: it could be a list of lists containing tokenized/stemmed text or a list of strings."
   ]
  },
  {
   "cell_type": "code",
   "execution_count": 9,
   "metadata": {},
   "outputs": [
    {
     "data": {
      "text/plain": [
       "['clean quiet apt home park',\n",
       " 'skylit midtown castl',\n",
       " 'villag harlem new york',\n",
       " 'cozi entir floor brownston',\n",
       " 'entir apt spaciou studio loft central park',\n",
       " 'larg cozi midtown east']"
      ]
     },
     "execution_count": 9,
     "metadata": {},
     "output_type": "execute_result"
    }
   ],
   "source": [
    "# your code here to define the function(s)\n",
    "# based on 1.2/1.3\n",
    "list_stopwords = stopwords.words(\"english\")\n",
    "custom_words_toadd = ['apartment', 'new york', 'nyc',\n",
    "                      'bronx', 'brooklyn',\n",
    "                     'manhattan', 'queens',\n",
    "                      'staten island']\n",
    "list_stopwords_new = list_stopwords + custom_words_toadd\n",
    "porter = PorterStemmer()\n",
    "corpus_lower = ab.name.str.lower().to_list()\n",
    "\n",
    "def process_string(text):\n",
    "    if pd.isna(text):\n",
    "        return \"\"\n",
    "    lower_text = text.lower()\n",
    "    ## use wordpunct tokenize and filter out with one\n",
    "    nostop_listing = [word for word in wordpunct_tokenize(lower_text)\n",
    "                              if word not in list_stopwords_new]\n",
    "    ## apply to one by iterating\n",
    "    ## over the tokens in the list\n",
    "    text_preprocess = [porter.stem(token)\n",
    "                                for token in nostop_listing\n",
    "                                if token.isalpha() and\n",
    "                                len(token) > 2]\n",
    "    return \" \".join( text_preprocess )\n",
    "# your code here to apply the function\n",
    "preprocessing = [process_string(text) for text in corpus_lower]\n",
    "preprocessing[:6]\n"
   ]
  },
  {
   "cell_type": "markdown",
   "metadata": {},
   "source": [
    "# 2. Create a document-term matrix and do some basic diagnostics (more manual approach)\n",
    "\n",
    "Here we'll create a DTM first using the raw documents; in the activity, you'll create one using the preprocessed docs\n",
    "that you created in activity 1"
   ]
  },
  {
   "cell_type": "markdown",
   "metadata": {},
   "source": [
    "## 2.1 Define the dtm function and select data to transform into a document-term matrix"
   ]
  },
  {
   "cell_type": "code",
   "execution_count": 10,
   "metadata": {},
   "outputs": [],
   "source": [
    "## function provided\n",
    "def create_dtm(list_of_strings, metadata):\n",
    "    \"\"\" \n",
    "    Function to create dense document-term matrix (DTM) from a list of strings and provided metadata. \n",
    "    A sparse DTM is a list of term_index/doc_index tuples: if a given term occurs in a given doc at least once, \n",
    "        then this count is listed as a tuple; if not, that term/doc pair is omitted. \n",
    "    In a dense DTM, each row is one text (e.g., an Airbnb listing), each column is a term, and \n",
    "        each cell indicates the frequency of that word in that text. \n",
    "    \n",
    "    Parameters:\n",
    "        list_of_strings (Series): each row contains a preprocessed string (need not be tokenized)\n",
    "        metadata (DataFrame): contains document-level covariates\n",
    "    \n",
    "    Returns:\n",
    "        Dense DTM with metadata on left and then one column per word in lexicon\n",
    "    \"\"\"\n",
    "    \n",
    "    # initialize a sklearn tokenizer; this helps us tokenize the preprocessed string input\n",
    "    vectorizer = CountVectorizer(lowercase = True) \n",
    "    dtm_sparse = vectorizer.fit_transform(list_of_strings)\n",
    "    print('Sparse matrix form:\\n', dtm_sparse[:3]) # take a look at sparse representation\n",
    "    print()\n",
    "    \n",
    "    # switch the dataframe from the sparse representation to the normal dense representation (so we can treat it as regular dataframe)\n",
    "    dtm_dense_named = pd.DataFrame(dtm_sparse.todense(), columns=vectorizer.get_feature_names_out ())\n",
    "    print('Dense matrix form:\\n', dtm_dense_named.head()) # take a look at dense representation\n",
    "    dtm_dense_named_withid = pd.concat([metadata.reset_index(), dtm_dense_named], axis = 1) # add back document-level covariates\n",
    "\n",
    "    return(dtm_dense_named_withid)"
   ]
  },
  {
   "cell_type": "code",
   "execution_count": 11,
   "metadata": {},
   "outputs": [
    {
     "data": {
      "text/html": [
       "<div>\n",
       "<style scoped>\n",
       "    .dataframe tbody tr th:only-of-type {\n",
       "        vertical-align: middle;\n",
       "    }\n",
       "\n",
       "    .dataframe tbody tr th {\n",
       "        vertical-align: top;\n",
       "    }\n",
       "\n",
       "    .dataframe thead th {\n",
       "        text-align: right;\n",
       "    }\n",
       "</style>\n",
       "<table border=\"1\" class=\"dataframe\">\n",
       "  <thead>\n",
       "    <tr style=\"text-align: right;\">\n",
       "      <th></th>\n",
       "      <th>id</th>\n",
       "      <th>neighbourhood_group</th>\n",
       "      <th>price_rawdata</th>\n",
       "      <th>name</th>\n",
       "      <th>name_lower</th>\n",
       "    </tr>\n",
       "  </thead>\n",
       "  <tbody>\n",
       "    <tr>\n",
       "      <th>23821</th>\n",
       "      <td>19227560</td>\n",
       "      <td>Queens</td>\n",
       "      <td>100</td>\n",
       "      <td>Super Cozy!</td>\n",
       "      <td>super cozy!</td>\n",
       "    </tr>\n",
       "    <tr>\n",
       "      <th>22905</th>\n",
       "      <td>18560625</td>\n",
       "      <td>Brooklyn</td>\n",
       "      <td>30</td>\n",
       "      <td>Beautiful Private Bedroom by Prospect Park</td>\n",
       "      <td>beautiful private bedroom by prospect park</td>\n",
       "    </tr>\n",
       "    <tr>\n",
       "      <th>20426</th>\n",
       "      <td>16289576</td>\n",
       "      <td>Manhattan</td>\n",
       "      <td>80</td>\n",
       "      <td>Best Location on the Upper West Side! - Part II</td>\n",
       "      <td>best location on the upper west side! - part ii</td>\n",
       "    </tr>\n",
       "    <tr>\n",
       "      <th>2018</th>\n",
       "      <td>893413</td>\n",
       "      <td>Manhattan</td>\n",
       "      <td>2500</td>\n",
       "      <td>Architecturally Stunning Former Synagogue!</td>\n",
       "      <td>architecturally stunning former synagogue!</td>\n",
       "    </tr>\n",
       "    <tr>\n",
       "      <th>18790</th>\n",
       "      <td>14882137</td>\n",
       "      <td>Queens</td>\n",
       "      <td>50</td>\n",
       "      <td>Large, beautiful room near Bushwick</td>\n",
       "      <td>large, beautiful room near bushwick</td>\n",
       "    </tr>\n",
       "  </tbody>\n",
       "</table>\n",
       "</div>"
      ],
      "text/plain": [
       "             id neighbourhood_group  price_rawdata  \\\n",
       "23821  19227560              Queens            100   \n",
       "22905  18560625            Brooklyn             30   \n",
       "20426  16289576           Manhattan             80   \n",
       "2018     893413           Manhattan           2500   \n",
       "18790  14882137              Queens             50   \n",
       "\n",
       "                                                  name  \\\n",
       "23821                                      Super Cozy!   \n",
       "22905       Beautiful Private Bedroom by Prospect Park   \n",
       "20426  Best Location on the Upper West Side! - Part II   \n",
       "2018        Architecturally Stunning Former Synagogue!   \n",
       "18790              Large, beautiful room near Bushwick   \n",
       "\n",
       "                                            name_lower  \n",
       "23821                                      super cozy!  \n",
       "22905       beautiful private bedroom by prospect park  \n",
       "20426  best location on the upper west side! - part ii  \n",
       "2018        architecturally stunning former synagogue!  \n",
       "18790              large, beautiful room near bushwick  "
      ]
     },
     "execution_count": 11,
     "metadata": {},
     "output_type": "execute_result"
    }
   ],
   "source": [
    "\n",
    "## filter out na's\n",
    "## for shorter runtime, random sampling of 1000\n",
    "## get metadata for those\n",
    "## and also renaming price col since it's likely to be corpus word\n",
    "ab_small = ab.loc[~ab.name.isnull(),\n",
    "           ['id', 'neighbourhood_group', 'price', 'name']].copy().rename(columns = {'price':\n",
    "            'price_rawdata'}).sample(n = 1000, random_state = 422)\n",
    "\n",
    "ab_small['name_lower'] = ab_small['name'].str.lower()\n",
    "ab_small.head()"
   ]
  },
  {
   "cell_type": "markdown",
   "metadata": {},
   "source": [
    "## 2.2 Execute the dtm function to create the document-term matrix"
   ]
  },
  {
   "cell_type": "code",
   "execution_count": 12,
   "metadata": {},
   "outputs": [
    {
     "name": "stdout",
     "output_type": "stream",
     "text": [
      "Sparse matrix form:\n",
      "   (0, 841)\t1\n",
      "  (0, 281)\t1\n",
      "  (1, 152)\t1\n",
      "  (1, 693)\t1\n",
      "  (1, 157)\t1\n",
      "  (1, 205)\t1\n",
      "  (1, 698)\t1\n",
      "  (1, 653)\t1\n",
      "  (2, 165)\t1\n",
      "  (2, 537)\t1\n",
      "  (2, 637)\t1\n",
      "  (2, 856)\t1\n",
      "  (2, 902)\t1\n",
      "  (2, 939)\t1\n",
      "  (2, 774)\t1\n",
      "  (2, 657)\t1\n",
      "  (2, 471)\t1\n",
      "\n",
      "Dense matrix form:\n",
      "    001  10  10m  10min  10mins  1100  12mins  14  15  15min  ...  yoga  york  \\\n",
      "0    0   0    0      0       0     0       0   0   0      0  ...     0     0   \n",
      "1    0   0    0      0       0     0       0   0   0      0  ...     0     0   \n",
      "2    0   0    0      0       0     0       0   0   0      0  ...     0     0   \n",
      "3    0   0    0      0       0     0       0   0   0      0  ...     0     0   \n",
      "4    0   0    0      0       0     0       0   0   0      0  ...     0     0   \n",
      "\n",
      "   you  your  yu  zen  ღღღsteps  法拉盛中心私人房間獨立衛浴  溫馨大套房  獨一無二的紐約閣樓  \n",
      "0    0     0   0    0         0              0      0          0  \n",
      "1    0     0   0    0         0              0      0          0  \n",
      "2    0     0   0    0         0              0      0          0  \n",
      "3    0     0   0    0         0              0      0          0  \n",
      "4    0     0   0    0         0              0      0          0  \n",
      "\n",
      "[5 rows x 970 columns]\n"
     ]
    }
   ],
   "source": [
    "## example application on raw lowercase texts; \n",
    "dtm_nopre = create_dtm(list_of_strings= ab_small.name_lower,\n",
    "                      metadata = ab_small[['id', 'neighbourhood_group', 'price_rawdata']])\n",
    "\n"
   ]
  },
  {
   "cell_type": "code",
   "execution_count": 22,
   "metadata": {},
   "outputs": [
    {
     "data": {
      "text/html": [
       "<div>\n",
       "<style scoped>\n",
       "    .dataframe tbody tr th:only-of-type {\n",
       "        vertical-align: middle;\n",
       "    }\n",
       "\n",
       "    .dataframe tbody tr th {\n",
       "        vertical-align: top;\n",
       "    }\n",
       "\n",
       "    .dataframe thead th {\n",
       "        text-align: right;\n",
       "    }\n",
       "</style>\n",
       "<table border=\"1\" class=\"dataframe\">\n",
       "  <thead>\n",
       "    <tr style=\"text-align: right;\">\n",
       "      <th></th>\n",
       "      <th>index</th>\n",
       "      <th>id</th>\n",
       "      <th>neighbourhood_group</th>\n",
       "      <th>price_rawdata</th>\n",
       "      <th>001</th>\n",
       "      <th>10</th>\n",
       "      <th>10m</th>\n",
       "      <th>10min</th>\n",
       "      <th>10mins</th>\n",
       "      <th>1100</th>\n",
       "      <th>...</th>\n",
       "      <th>yoga</th>\n",
       "      <th>york</th>\n",
       "      <th>you</th>\n",
       "      <th>your</th>\n",
       "      <th>yu</th>\n",
       "      <th>zen</th>\n",
       "      <th>ღღღsteps</th>\n",
       "      <th>法拉盛中心私人房間獨立衛浴</th>\n",
       "      <th>溫馨大套房</th>\n",
       "      <th>獨一無二的紐約閣樓</th>\n",
       "    </tr>\n",
       "  </thead>\n",
       "  <tbody>\n",
       "    <tr>\n",
       "      <th>0</th>\n",
       "      <td>23821</td>\n",
       "      <td>19227560</td>\n",
       "      <td>Queens</td>\n",
       "      <td>100</td>\n",
       "      <td>0</td>\n",
       "      <td>0</td>\n",
       "      <td>0</td>\n",
       "      <td>0</td>\n",
       "      <td>0</td>\n",
       "      <td>0</td>\n",
       "      <td>...</td>\n",
       "      <td>0</td>\n",
       "      <td>0</td>\n",
       "      <td>0</td>\n",
       "      <td>0</td>\n",
       "      <td>0</td>\n",
       "      <td>0</td>\n",
       "      <td>0</td>\n",
       "      <td>0</td>\n",
       "      <td>0</td>\n",
       "      <td>0</td>\n",
       "    </tr>\n",
       "    <tr>\n",
       "      <th>1</th>\n",
       "      <td>22905</td>\n",
       "      <td>18560625</td>\n",
       "      <td>Brooklyn</td>\n",
       "      <td>30</td>\n",
       "      <td>0</td>\n",
       "      <td>0</td>\n",
       "      <td>0</td>\n",
       "      <td>0</td>\n",
       "      <td>0</td>\n",
       "      <td>0</td>\n",
       "      <td>...</td>\n",
       "      <td>0</td>\n",
       "      <td>0</td>\n",
       "      <td>0</td>\n",
       "      <td>0</td>\n",
       "      <td>0</td>\n",
       "      <td>0</td>\n",
       "      <td>0</td>\n",
       "      <td>0</td>\n",
       "      <td>0</td>\n",
       "      <td>0</td>\n",
       "    </tr>\n",
       "    <tr>\n",
       "      <th>2</th>\n",
       "      <td>20426</td>\n",
       "      <td>16289576</td>\n",
       "      <td>Manhattan</td>\n",
       "      <td>80</td>\n",
       "      <td>0</td>\n",
       "      <td>0</td>\n",
       "      <td>0</td>\n",
       "      <td>0</td>\n",
       "      <td>0</td>\n",
       "      <td>0</td>\n",
       "      <td>...</td>\n",
       "      <td>0</td>\n",
       "      <td>0</td>\n",
       "      <td>0</td>\n",
       "      <td>0</td>\n",
       "      <td>0</td>\n",
       "      <td>0</td>\n",
       "      <td>0</td>\n",
       "      <td>0</td>\n",
       "      <td>0</td>\n",
       "      <td>0</td>\n",
       "    </tr>\n",
       "    <tr>\n",
       "      <th>3</th>\n",
       "      <td>2018</td>\n",
       "      <td>893413</td>\n",
       "      <td>Manhattan</td>\n",
       "      <td>2500</td>\n",
       "      <td>0</td>\n",
       "      <td>0</td>\n",
       "      <td>0</td>\n",
       "      <td>0</td>\n",
       "      <td>0</td>\n",
       "      <td>0</td>\n",
       "      <td>...</td>\n",
       "      <td>0</td>\n",
       "      <td>0</td>\n",
       "      <td>0</td>\n",
       "      <td>0</td>\n",
       "      <td>0</td>\n",
       "      <td>0</td>\n",
       "      <td>0</td>\n",
       "      <td>0</td>\n",
       "      <td>0</td>\n",
       "      <td>0</td>\n",
       "    </tr>\n",
       "    <tr>\n",
       "      <th>4</th>\n",
       "      <td>18790</td>\n",
       "      <td>14882137</td>\n",
       "      <td>Queens</td>\n",
       "      <td>50</td>\n",
       "      <td>0</td>\n",
       "      <td>0</td>\n",
       "      <td>0</td>\n",
       "      <td>0</td>\n",
       "      <td>0</td>\n",
       "      <td>0</td>\n",
       "      <td>...</td>\n",
       "      <td>0</td>\n",
       "      <td>0</td>\n",
       "      <td>0</td>\n",
       "      <td>0</td>\n",
       "      <td>0</td>\n",
       "      <td>0</td>\n",
       "      <td>0</td>\n",
       "      <td>0</td>\n",
       "      <td>0</td>\n",
       "      <td>0</td>\n",
       "    </tr>\n",
       "  </tbody>\n",
       "</table>\n",
       "<p>5 rows × 974 columns</p>\n",
       "</div>"
      ],
      "text/plain": [
       "   index        id neighbourhood_group  price_rawdata  001  10  10m  10min  \\\n",
       "0  23821  19227560              Queens            100    0   0    0      0   \n",
       "1  22905  18560625            Brooklyn             30    0   0    0      0   \n",
       "2  20426  16289576           Manhattan             80    0   0    0      0   \n",
       "3   2018    893413           Manhattan           2500    0   0    0      0   \n",
       "4  18790  14882137              Queens             50    0   0    0      0   \n",
       "\n",
       "   10mins  1100  ...  yoga  york  you  your  yu  zen  ღღღsteps  法拉盛中心私人房間獨立衛浴  \\\n",
       "0       0     0  ...     0     0    0     0   0    0         0              0   \n",
       "1       0     0  ...     0     0    0     0   0    0         0              0   \n",
       "2       0     0  ...     0     0    0     0   0    0         0              0   \n",
       "3       0     0  ...     0     0    0     0   0    0         0              0   \n",
       "4       0     0  ...     0     0    0     0   0    0         0              0   \n",
       "\n",
       "   溫馨大套房  獨一無二的紐約閣樓  \n",
       "0      0          0  \n",
       "1      0          0  \n",
       "2      0          0  \n",
       "3      0          0  \n",
       "4      0          0  \n",
       "\n",
       "[5 rows x 974 columns]"
      ]
     },
     "execution_count": 22,
     "metadata": {},
     "output_type": "execute_result"
    },
    {
     "data": {
      "text/plain": [
       "(1000, 974)"
      ]
     },
     "execution_count": 22,
     "metadata": {},
     "output_type": "execute_result"
    },
    {
     "data": {
      "text/html": [
       "<div>\n",
       "<style scoped>\n",
       "    .dataframe tbody tr th:only-of-type {\n",
       "        vertical-align: middle;\n",
       "    }\n",
       "\n",
       "    .dataframe tbody tr th {\n",
       "        vertical-align: top;\n",
       "    }\n",
       "\n",
       "    .dataframe thead th {\n",
       "        text-align: right;\n",
       "    }\n",
       "</style>\n",
       "<table border=\"1\" class=\"dataframe\">\n",
       "  <thead>\n",
       "    <tr style=\"text-align: right;\">\n",
       "      <th></th>\n",
       "      <th>inclusive</th>\n",
       "      <th>incredible</th>\n",
       "      <th>incredibly</th>\n",
       "      <th>indoor</th>\n",
       "      <th>inn</th>\n",
       "      <th>inq</th>\n",
       "      <th>insane</th>\n",
       "      <th>int</th>\n",
       "      <th>interior</th>\n",
       "      <th>international</th>\n",
       "      <th>interns</th>\n",
       "      <th>invincible</th>\n",
       "      <th>inviting</th>\n",
       "      <th>inwood</th>\n",
       "      <th>island</th>\n",
       "      <th>it</th>\n",
       "      <th>italy</th>\n",
       "      <th>its</th>\n",
       "      <th>jefferson</th>\n",
       "      <th>jewel</th>\n",
       "    </tr>\n",
       "  </thead>\n",
       "  <tbody>\n",
       "    <tr>\n",
       "      <th>0</th>\n",
       "      <td>0</td>\n",
       "      <td>0</td>\n",
       "      <td>0</td>\n",
       "      <td>0</td>\n",
       "      <td>0</td>\n",
       "      <td>0</td>\n",
       "      <td>0</td>\n",
       "      <td>0</td>\n",
       "      <td>0</td>\n",
       "      <td>0</td>\n",
       "      <td>0</td>\n",
       "      <td>0</td>\n",
       "      <td>0</td>\n",
       "      <td>0</td>\n",
       "      <td>0</td>\n",
       "      <td>0</td>\n",
       "      <td>0</td>\n",
       "      <td>0</td>\n",
       "      <td>0</td>\n",
       "      <td>0</td>\n",
       "    </tr>\n",
       "    <tr>\n",
       "      <th>1</th>\n",
       "      <td>0</td>\n",
       "      <td>0</td>\n",
       "      <td>0</td>\n",
       "      <td>0</td>\n",
       "      <td>0</td>\n",
       "      <td>0</td>\n",
       "      <td>0</td>\n",
       "      <td>0</td>\n",
       "      <td>0</td>\n",
       "      <td>0</td>\n",
       "      <td>0</td>\n",
       "      <td>0</td>\n",
       "      <td>0</td>\n",
       "      <td>0</td>\n",
       "      <td>0</td>\n",
       "      <td>0</td>\n",
       "      <td>0</td>\n",
       "      <td>0</td>\n",
       "      <td>0</td>\n",
       "      <td>0</td>\n",
       "    </tr>\n",
       "    <tr>\n",
       "      <th>2</th>\n",
       "      <td>0</td>\n",
       "      <td>0</td>\n",
       "      <td>0</td>\n",
       "      <td>0</td>\n",
       "      <td>0</td>\n",
       "      <td>0</td>\n",
       "      <td>0</td>\n",
       "      <td>0</td>\n",
       "      <td>0</td>\n",
       "      <td>0</td>\n",
       "      <td>0</td>\n",
       "      <td>0</td>\n",
       "      <td>0</td>\n",
       "      <td>0</td>\n",
       "      <td>0</td>\n",
       "      <td>0</td>\n",
       "      <td>0</td>\n",
       "      <td>0</td>\n",
       "      <td>0</td>\n",
       "      <td>0</td>\n",
       "    </tr>\n",
       "    <tr>\n",
       "      <th>3</th>\n",
       "      <td>0</td>\n",
       "      <td>0</td>\n",
       "      <td>0</td>\n",
       "      <td>0</td>\n",
       "      <td>0</td>\n",
       "      <td>0</td>\n",
       "      <td>0</td>\n",
       "      <td>0</td>\n",
       "      <td>0</td>\n",
       "      <td>0</td>\n",
       "      <td>0</td>\n",
       "      <td>0</td>\n",
       "      <td>0</td>\n",
       "      <td>0</td>\n",
       "      <td>0</td>\n",
       "      <td>0</td>\n",
       "      <td>0</td>\n",
       "      <td>0</td>\n",
       "      <td>0</td>\n",
       "      <td>0</td>\n",
       "    </tr>\n",
       "    <tr>\n",
       "      <th>4</th>\n",
       "      <td>0</td>\n",
       "      <td>0</td>\n",
       "      <td>0</td>\n",
       "      <td>0</td>\n",
       "      <td>0</td>\n",
       "      <td>0</td>\n",
       "      <td>0</td>\n",
       "      <td>0</td>\n",
       "      <td>0</td>\n",
       "      <td>0</td>\n",
       "      <td>0</td>\n",
       "      <td>0</td>\n",
       "      <td>0</td>\n",
       "      <td>0</td>\n",
       "      <td>0</td>\n",
       "      <td>0</td>\n",
       "      <td>0</td>\n",
       "      <td>0</td>\n",
       "      <td>0</td>\n",
       "      <td>0</td>\n",
       "    </tr>\n",
       "  </tbody>\n",
       "</table>\n",
       "</div>"
      ],
      "text/plain": [
       "   inclusive  incredible  incredibly  indoor  inn  inq  insane  int  interior  \\\n",
       "0          0           0           0       0    0    0       0    0         0   \n",
       "1          0           0           0       0    0    0       0    0         0   \n",
       "2          0           0           0       0    0    0       0    0         0   \n",
       "3          0           0           0       0    0    0       0    0         0   \n",
       "4          0           0           0       0    0    0       0    0         0   \n",
       "\n",
       "   international  interns  invincible  inviting  inwood  island  it  italy  \\\n",
       "0              0        0           0         0       0       0   0      0   \n",
       "1              0        0           0         0       0       0   0      0   \n",
       "2              0        0           0         0       0       0   0      0   \n",
       "3              0        0           0         0       0       0   0      0   \n",
       "4              0        0           0         0       0       0   0      0   \n",
       "\n",
       "   its  jefferson  jewel  \n",
       "0    0          0      0  \n",
       "1    0          0      0  \n",
       "2    0          0      0  \n",
       "3    0          0      0  \n",
       "4    0          0      0  "
      ]
     },
     "execution_count": 22,
     "metadata": {},
     "output_type": "execute_result"
    }
   ],
   "source": [
    "## show first set of rows/cols\n",
    "dtm_nopre.head()\n",
    "\n",
    "## show arbitrary later cols in resulting data\n",
    "dtm_nopre.shape\n",
    "dtm_nopre.iloc[0:5, 480:500]"
   ]
  },
  {
   "cell_type": "markdown",
   "metadata": {},
   "source": [
    "## 2.3 Use that matrix/column sums to get basic summary stats of top words"
   ]
  },
  {
   "cell_type": "code",
   "execution_count": 23,
   "metadata": {},
   "outputs": [
    {
     "data": {
      "text/plain": [
       "in           367\n",
       "room         244\n",
       "private      163\n",
       "bedroom      152\n",
       "apartment    130\n",
       "            ... \n",
       "gay            1\n",
       "gente          1\n",
       "geodesic       1\n",
       "george         1\n",
       "獨一無二的紐約閣樓      1\n",
       "Length: 970, dtype: int64"
      ]
     },
     "execution_count": 23,
     "metadata": {},
     "output_type": "execute_result"
    }
   ],
   "source": [
    "## summing each col\n",
    "top_terms = dtm_nopre[dtm_nopre.columns[4:]].sum(axis = 0)\n",
    "\n",
    "## sorting from most frequent to least frequent\n",
    "top_terms.sort_values(ascending = False)"
   ]
  },
  {
   "cell_type": "markdown",
   "metadata": {},
   "source": [
    "## 2.4 Activity 2: repeat the above but using the preprocessed text data\n",
    "\n",
    "- Stick with the same random sample of 1000 `ab_small`\n",
    "- Apply the preprocessing steps from activity 1 to create a new column in `ab_small` with the preprocessed text (if you got stuck on that, try just removing stopwords)\n",
    "- Use the `create_dtm` function to create a document-term matrix from the preprocessed data\n",
    "- Use colsums to summarize"
   ]
  },
  {
   "cell_type": "code",
   "execution_count": 25,
   "metadata": {},
   "outputs": [
    {
     "ename": "NameError",
     "evalue": "name 'process_step1' is not defined",
     "output_type": "error",
     "traceback": [
      "\u001b[0;31m---------------------------------------------------------------------------\u001b[0m",
      "\u001b[0;31mNameError\u001b[0m                                 Traceback (most recent call last)",
      "Cell \u001b[0;32mIn[25], line 35\u001b[0m\n\u001b[1;32m     31\u001b[0m ab_small[\u001b[38;5;124m'\u001b[39m\u001b[38;5;124mname_lower\u001b[39m\u001b[38;5;124m'\u001b[39m] \u001b[38;5;241m=\u001b[39m ab_small[\u001b[38;5;124m'\u001b[39m\u001b[38;5;124mname\u001b[39m\u001b[38;5;124m'\u001b[39m]\u001b[38;5;241m.\u001b[39mstr\u001b[38;5;241m.\u001b[39mlower()\n\u001b[1;32m     32\u001b[0m preprocessing \u001b[38;5;241m=\u001b[39m [process_string(text) \u001b[38;5;28;01mfor\u001b[39;00m text \u001b[38;5;129;01min\u001b[39;00m ab_small\u001b[38;5;241m.\u001b[39mname_lower]\n\u001b[0;32m---> 35\u001b[0m ab_small[\u001b[38;5;124m\"\u001b[39m\u001b[38;5;124mprocessed\u001b[39m\u001b[38;5;124m\"\u001b[39m] \u001b[38;5;241m=\u001b[39m ab_small\u001b[38;5;241m.\u001b[39mname_lower\u001b[38;5;241m.\u001b[39mapply(process_step1)\n\u001b[1;32m     36\u001b[0m metadata_list \u001b[38;5;241m=\u001b[39m [\u001b[38;5;124m'\u001b[39m\u001b[38;5;124mid\u001b[39m\u001b[38;5;124m'\u001b[39m, \u001b[38;5;124m'\u001b[39m\u001b[38;5;124mneighbourhood_group\u001b[39m\u001b[38;5;124m'\u001b[39m, \u001b[38;5;124m'\u001b[39m\u001b[38;5;124mprice_rawdata\u001b[39m\u001b[38;5;124m'\u001b[39m]\n\u001b[1;32m     37\u001b[0m dtm_pre \u001b[38;5;241m=\u001b[39m create_dtm(list_of_strings\u001b[38;5;241m=\u001b[39m ab_small\u001b[38;5;241m.\u001b[39mprocessed,\n\u001b[1;32m     38\u001b[0m                 metadata \u001b[38;5;241m=\u001b[39m ab_small[metadata_list])\n",
      "\u001b[0;31mNameError\u001b[0m: name 'process_step1' is not defined"
     ]
    }
   ],
   "source": [
    "# your code here to define the function(s)\n",
    "# based on 1.2/1.3\n",
    "list_stopwords = stopwords.words(\"english\")\n",
    "custom_words_toadd = ['apartment', 'new york', 'nyc',\n",
    "                      'bronx', 'brooklyn',\n",
    "                     'manhattan', 'queens',\n",
    "                      'staten island']\n",
    "list_stopwords_new = list_stopwords + custom_words_toadd\n",
    "porter = PorterStemmer()\n",
    "\n",
    "def process_string(text):\n",
    "    if pd.isna(text):\n",
    "        return \"\"\n",
    "    lower_text = text.lower()\n",
    "    ## use wordpunct tokenize and filter out with one\n",
    "    nostop_listing = [word for word in wordpunct_tokenize(lower_text)\n",
    "                              if word not in list_stopwords_new]\n",
    "    ## apply to one by iterating\n",
    "    ## over the tokens in the list\n",
    "    text_preprocess = [porter.stem(token)\n",
    "                                for token in nostop_listing\n",
    "                                if token.isalpha() and\n",
    "                                len(token) > 2]\n",
    "    return \" \".join( text_preprocess )\n",
    "# your code here to apply the function\n",
    "\n",
    "ab_small = ab.loc[~ab.name.isnull(),\n",
    "           ['id', 'neighbourhood_group', 'price', 'name']].copy().rename(columns = {'price':\n",
    "            'price_rawdata'}).sample(n = 1000, random_state = 422)\n",
    "\n",
    "ab_small['name_lower'] = ab_small['name'].str.lower()\n",
    "preprocessing = [process_string(text) for text in ab_small.name_lower]\n",
    "\n",
    "\n",
    "ab_small[\"processed\"] = ab_small.name_lower.apply(process_step1)\n",
    "metadata_list = ['id', 'neighbourhood_group', 'price_rawdata']\n",
    "dtm_pre = create_dtm(list_of_strings= ab_small.processed,\n",
    "                metadata = ab_small[metadata_list])\n",
    "dtm_pre_termsonly = dtm_pre[[col for col in dtm_pre.columns\n",
    "                             if col not in metadata_list and\n",
    "                             col != \"index\"]]\n",
    "dtm_pre_termsonly.sum().sort_values(ascending = False)\n",
    "\n"
   ]
  },
  {
   "cell_type": "markdown",
   "metadata": {},
   "source": [
    "# 3. Use gensim to more automatically preprocess/estimate a topic model"
   ]
  },
  {
   "cell_type": "markdown",
   "metadata": {},
   "source": [
    "## 3.1 Creating the objects to feed the LDA modeling function\n",
    "\n",
    "Different outputs described below: \n",
    "- Tokenized and preprocessed text \n",
    "- Dictionary \n",
    "- Corpus "
   ]
  },
  {
   "cell_type": "code",
   "execution_count": 13,
   "metadata": {},
   "outputs": [
    {
     "data": {
      "text/plain": [
       "{0: '!', 1: 'cozy', 2: 'super', 3: 'beautiful', 4: 'bedroom'}"
      ]
     },
     "execution_count": 13,
     "metadata": {},
     "output_type": "execute_result"
    },
    {
     "name": "stdout",
     "output_type": "stream",
     "text": [
      "Filtering out very rare and very common words reduced the length of dictionary from 1047 to 31.\n"
     ]
    },
    {
     "data": {
      "text/plain": [
       "{0: '!', 1: 'cozy', 2: 'beautiful', 3: 'bedroom', 4: 'park'}"
      ]
     },
     "execution_count": 13,
     "metadata": {},
     "output_type": "execute_result"
    },
    {
     "name": "stdout",
     "output_type": "stream",
     "text": [
      "Sample of documents represented in dictionary format (with omitted words noted):\n"
     ]
    },
    {
     "data": {
      "text/plain": [
       "[([(0, 1), (1, 1)], {'super': 1}),\n",
       " ([(2, 1), (3, 1), (4, 1), (5, 1)], {'by': 1, 'prospect': 1}),\n",
       " ([(0, 1), (6, 1), (7, 1)],\n",
       "  {'best': 1,\n",
       "   'ii': 1,\n",
       "   'location': 1,\n",
       "   'on': 1,\n",
       "   'part': 1,\n",
       "   'side': 1,\n",
       "   'upper': 1,\n",
       "   'west': 1}),\n",
       " ([(0, 1)],\n",
       "  {'architecturally': 1, 'former': 1, 'stunning': 1, 'synagogue': 1}),\n",
       " ([(2, 1), (8, 1), (9, 1), (10, 1), (11, 1)], {'bushwick': 1}),\n",
       " ([(4, 1), (8, 1), (9, 1), (12, 1), (13, 2)],\n",
       "  {'bath': 1, 'bed': 1, 'by': 1, 'central': 1, 'college': 1, 'hunter': 1}),\n",
       " ([(9, 1), (11, 1), (14, 1), (15, 1)], {'bohemian': 1, 'brownstone': 1}),\n",
       " ([(16, 1)],\n",
       "  {'fidi': 1, 'huge': 1, 'loft': 1, 'views': 1, 'w': 1, 'water': 1}),\n",
       " ([], {'hillside': 1, 'hotel': 1}),\n",
       " ([(5, 1), (9, 1), (11, 1), (14, 1), (15, 1)], {'airy': 1})]"
      ]
     },
     "execution_count": 13,
     "metadata": {},
     "output_type": "execute_result"
    }
   ],
   "source": [
    "\n",
    "## Step 1: re-tokenize and store in list\n",
    "## here, i'm doing with the raw random sample of text\n",
    "## in activity, you should do with the preprocessed texts\n",
    "text_raw_tokens = [wordpunct_tokenize(one_text) for one_text in \n",
    "                  ab_small.name_lower]\n",
    "\n",
    "\n",
    "## Step 2: use gensim create dictionary - gets all unique words across documents\n",
    "text_raw_dict = corpora.Dictionary(text_raw_tokens)\n",
    "raw_len = len(text_raw_dict) # get length for comparison below\n",
    "\n",
    "### explore first few keys and values\n",
    "### see that key is just an arbitrary counter; value is the word itself\n",
    "{k: text_raw_dict[k] for k in list(text_raw_dict)[:5]}\n",
    "\n",
    "\n",
    "## Step 3: filter out very rare and very common words\n",
    "## here, i'm using the threshold that a word needs to appear in at least\n",
    "## 5% of docs but not more than 95%\n",
    "## this is an integer count of docs so i round\n",
    "lower_bound = round(ab_small.shape[0]*0.05)\n",
    "upper_bound = round(ab_small.shape[0]*0.95)\n",
    "\n",
    "### apply filtering to dictionary\n",
    "text_raw_dict.filter_extremes(no_below = lower_bound,\n",
    "                             no_above = upper_bound)\n",
    "print(f'Filtering out very rare and very common words reduced the \\\n",
    "length of dictionary from {str(raw_len)} to {str(len(text_raw_dict))}.')\n",
    "{k: text_raw_dict[k] for k in list(text_raw_dict)[:5]} # show first five entries after filtering\n",
    "\n",
    "\n",
    "## Step 4: apply dictionary to TOKENIZED texts\n",
    "## this creates a mapping between each word \n",
    "## in a specific listing and the key in the dictionary.\n",
    "## for words that remain in the filtered dictionary,\n",
    "## output is a list where len(list) == n documents\n",
    "## and each element in the list is a list of tuples\n",
    "## containing the mappings\n",
    "corpus_fromdict = [text_raw_dict.doc2bow(one_text) \n",
    "                   for one_text in text_raw_tokens]\n",
    "\n",
    "### can apply doc2bow(one_text, return_missing = True) to print words\n",
    "### eliminated from the listing bc they're not in filtered dictionary.\n",
    "### but feeding that one with missing values to\n",
    "### the lda function can cause errors\n",
    "corpus_fromdict_showmiss = [text_raw_dict.doc2bow(one_text, return_missing = True)\n",
    "                            for one_text in text_raw_tokens]\n",
    "print('Sample of documents represented in dictionary format (with omitted words noted):')\n",
    "corpus_fromdict_showmiss[:10]"
   ]
  },
  {
   "cell_type": "markdown",
   "metadata": {},
   "source": [
    "##  3.2 Estimating the model"
   ]
  },
  {
   "cell_type": "code",
   "execution_count": 14,
   "metadata": {},
   "outputs": [
    {
     "name": "stdout",
     "output_type": "stream",
     "text": [
      "<class 'gensim.models.ldamodel.LdaModel'>\n"
     ]
    }
   ],
   "source": [
    "## Step 5: we're finally ready to estimate the model!\n",
    "## full documentation here - https://radimrehurek.com/gensim/models/ldamodel.html\n",
    "## here, we're feeding the lda function:\n",
    "## (1) the corpus we created from the dictionary,\n",
    "## (2) a parameter we decide on for the number of topics (k),\n",
    "## (3) the dictionary itself,\n",
    "## (4) parameter for number of passes through training data (more means slower), and\n",
    "## (5) parameter that returns, for each word remaining in dict, the topic probabilities.\n",
    "## see documentation for many other arguments you can vary\n",
    "ldamod = gensim.models.ldamodel.LdaModel(corpus_fromdict, \n",
    "                                         num_topics = 5, \n",
    "                                         id2word=text_raw_dict, \n",
    "                                         passes=6, \n",
    "                                         alpha = 'auto',\n",
    "                                         per_word_topics = True)\n",
    "\n",
    "print(type(ldamod))\n",
    "\n"
   ]
  },
  {
   "cell_type": "markdown",
   "metadata": {},
   "source": [
    "## 3.3  Seeing what topics the estimated model discovers"
   ]
  },
  {
   "cell_type": "code",
   "execution_count": 15,
   "metadata": {},
   "outputs": [
    {
     "name": "stdout",
     "output_type": "stream",
     "text": [
      "(0, '0.188*\"in\" + 0.186*\"room\" + 0.124*\"private\" + 0.058*\"cozy\" + 0.049*\"!\" + 0.046*\"and\" + 0.044*\"williamsburg\" + 0.033*\"spacious\" + 0.032*\",\" + 0.030*\"apt\"')\n",
      "(1, '0.189*\"studio\" + 0.143*\"the\" + 0.112*\"of\" + 0.106*\"in\" + 0.088*\"!\" + 0.085*\"manhattan\" + 0.055*\"apartment\" + 0.039*\".\" + 0.024*\"cozy\" + 0.022*\"/\"')\n",
      "(2, '0.174*\"-\" + 0.132*\"bedroom\" + 0.110*\"2\" + 0.084*\"in\" + 0.083*\"park\" + 0.072*\"to\" + 0.046*\"/\" + 0.043*\"east\" + 0.032*\"large\" + 0.031*\"apt\"')\n",
      "(3, '0.135*\"1\" + 0.117*\"brooklyn\" + 0.095*\"/\" + 0.091*\"bedroom\" + 0.074*\"sunny\" + 0.067*\"apt\" + 0.058*\"spacious\" + 0.058*\"in\" + 0.053*\"&\" + 0.035*\"!\"')\n",
      "(4, '0.293*\",\" + 0.146*\"apartment\" + 0.058*\"beautiful\" + 0.045*\"with\" + 0.044*\".\" + 0.041*\"near\" + 0.037*\"to\" + 0.036*\"large\" + 0.035*\"room\" + 0.035*\"-\"')\n"
     ]
    }
   ],
   "source": [
    "## Post-model 1: explore corpus-wide summary of topics\n",
    "### getting the topics and top words; can retrieve diff top words\n",
    "topics = ldamod.print_topics(num_words = 10)\n",
    "for topic in topics:\n",
    "    print(topic)\n"
   ]
  },
  {
   "cell_type": "code",
   "execution_count": 16,
   "metadata": {},
   "outputs": [
    {
     "data": {
      "text/plain": [
       "[['super', 'cozy', '!'],\n",
       " ['beautiful', 'private', 'bedroom', 'by', 'prospect', 'park'],\n",
       " ['best',\n",
       "  'location',\n",
       "  'on',\n",
       "  'the',\n",
       "  'upper',\n",
       "  'west',\n",
       "  'side',\n",
       "  '!',\n",
       "  '-',\n",
       "  'part',\n",
       "  'ii'],\n",
       " ['architecturally', 'stunning', 'former', 'synagogue', '!'],\n",
       " ['large', ',', 'beautiful', 'room', 'near', 'bushwick']]"
      ]
     },
     "execution_count": 16,
     "metadata": {},
     "output_type": "execute_result"
    },
    {
     "data": {
      "text/plain": [
       "[[(0, 0.7993016),\n",
       "  (1, 0.045616053),\n",
       "  (2, 0.055807795),\n",
       "  (3, 0.05044435),\n",
       "  (4, 0.0488302)],\n",
       " [(0, 0.31240624),\n",
       "  (1, 0.026643872),\n",
       "  (2, 0.6027085),\n",
       "  (3, 0.029502511),\n",
       "  (4, 0.028738877)],\n",
       " [(0, 0.0692189),\n",
       "  (1, 0.57290494),\n",
       "  (2, 0.28456652),\n",
       "  (3, 0.037222896),\n",
       "  (4, 0.03608671)],\n",
       " [(0, 0.1521167),\n",
       "  (1, 0.6077862),\n",
       "  (2, 0.086348064),\n",
       "  (3, 0.07813496),\n",
       "  (4, 0.07561409)],\n",
       " [(0, 0.051116124),\n",
       "  (1, 0.022062173),\n",
       "  (2, 0.027036626),\n",
       "  (3, 0.024423271),\n",
       "  (4, 0.8753618)]]"
      ]
     },
     "execution_count": 16,
     "metadata": {},
     "output_type": "execute_result"
    }
   ],
   "source": [
    "    \n",
    "## Post-model 2: explore topics associated with each document\n",
    "### for each item in our original dictionary, get list of topic probabilities\n",
    "l=[ldamod.get_document_topics(item) for item in corpus_fromdict]\n",
    "### print result\n",
    "text_raw_tokens[0:5]\n",
    "l[0:5]"
   ]
  },
  {
   "cell_type": "markdown",
   "metadata": {},
   "source": [
    "### Visualizing "
   ]
  },
  {
   "cell_type": "code",
   "execution_count": 17,
   "metadata": {},
   "outputs": [
    {
     "data": {
      "text/html": [
       "\n",
       "<link rel=\"stylesheet\" type=\"text/css\" href=\"https://cdn.jsdelivr.net/gh/bmabey/pyLDAvis@3.4.0/pyLDAvis/js/ldavis.v1.0.0.css\">\n",
       "\n",
       "\n",
       "<div id=\"ldavis_el132261891733281177469416\" style=\"background-color:white;\"></div>\n",
       "<script type=\"text/javascript\">\n",
       "\n",
       "var ldavis_el132261891733281177469416_data = {\"mdsDat\": {\"x\": [0.01586316982191695, -0.042407252395129214, -0.1177486338478096, -0.10459398733183446, 0.24888670375285651], \"y\": [0.15710631794020247, -0.1373147838292893, -0.09125265283133417, 0.1042375024068287, -0.03277638368640819], \"topics\": [1, 2, 3, 4, 5], \"cluster\": [1, 1, 1, 1, 1], \"Freq\": [35.29714137029056, 17.893618130851596, 16.632032118607086, 16.490325228856612, 13.686883151394142]}, \"tinfo\": {\"Term\": [\",\", \"studio\", \"room\", \"-\", \"the\", \"1\", \"bedroom\", \"of\", \"apartment\", \"brooklyn\", \"private\", \"2\", \"manhattan\", \"park\", \"/\", \"sunny\", \"to\", \"!\", \"apt\", \"spacious\", \"&\", \"beautiful\", \"and\", \"east\", \"with\", \"in\", \".\", \"near\", \"cozy\", \"large\", \"and\", \"room\", \"private\", \"williamsburg\", \"cozy\", \"in\", \"!\", \"spacious\", \"manhattan\", \"with\", \"apt\", \"&\", \"near\", \"brooklyn\", \"to\", \"beautiful\", \",\", \"bedroom\", \".\", \"of\", \"large\", \"the\", \"park\", \"/\", \"east\", \"sunny\", \"-\", \"apartment\", \"studio\", \"1\", \"2\", \"-\", \"park\", \"bedroom\", \"east\", \"to\", \"large\", \"/\", \"apt\", \"with\", \"sunny\", \"beautiful\", \"in\", \"cozy\", \"williamsburg\", \".\", \"apartment\", \"manhattan\", \"!\", \"near\", \"the\", \"1\", \"and\", \"of\", \"brooklyn\", \"studio\", \",\", \"&\", \"private\", \"room\", \"1\", \"brooklyn\", \"sunny\", \"/\", \"&\", \"apt\", \"spacious\", \"bedroom\", \"east\", \".\", \"large\", \"2\", \"!\", \"apartment\", \"in\", \",\", \"cozy\", \"williamsburg\", \"-\", \"the\", \"near\", \"with\", \"studio\", \"and\", \"park\", \"private\", \"manhattan\", \"of\", \"to\", \"room\", \",\", \"apartment\", \"beautiful\", \"near\", \"with\", \".\", \"large\", \"park\", \"to\", \"spacious\", \"sunny\", \"&\", \"-\", \"1\", \"room\", \"/\", \"williamsburg\", \"private\", \"in\", \"!\", \"2\", \"brooklyn\", \"apt\", \"east\", \"of\", \"studio\", \"cozy\", \"and\", \"bedroom\", \"the\", \"studio\", \"of\", \"the\", \"manhattan\", \"!\", \".\", \"apartment\", \"near\", \"east\", \"beautiful\", \"in\", \"large\", \"cozy\", \"to\", \"/\", \"-\", \"2\", \"brooklyn\", \"spacious\", \"private\", \"apt\", \"park\", \"bedroom\", \"with\", \"sunny\", \"1\", \"and\", \"&\", \"williamsburg\", \",\", \"room\"], \"Freq\": [212.0, 89.0, 234.0, 134.0, 77.0, 86.0, 153.0, 59.0, 132.0, 95.0, 156.0, 84.0, 78.0, 71.0, 100.0, 69.0, 88.0, 129.0, 90.0, 87.0, 60.0, 59.0, 55.0, 52.0, 64.0, 359.0, 72.0, 55.0, 95.0, 65.0, 52.154434577284036, 212.57965751525632, 142.04778506002742, 49.9085761428868, 66.02852843706147, 214.5132396788934, 56.46441015741798, 37.464838866467005, 32.6691593516655, 26.544645729551558, 34.35045579856911, 22.501628221312195, 18.913932863838546, 27.155735480167884, 17.490635621171634, 10.81300615220137, 36.10637895291341, 24.96922022737806, 11.774888703011717, 8.369866296808597, 8.50250843354278, 7.05833183321752, 4.748916972701083, 5.1200615433268695, 2.678322376120923, 2.4309151110028115, 3.2338658695496205, 3.1477059775649057, 1.302263622053494, 1.1872176639399747, 63.86325914182041, 101.12213975686166, 48.01924683593204, 76.59361540784676, 25.146727961006658, 41.6857813065257, 18.546544494415983, 26.596230149463516, 17.71622398231867, 12.562606351999035, 13.171679204142404, 9.34375981324506, 48.85032518598319, 11.631423221860109, 6.567091749043623, 6.711241272148051, 12.244484978902962, 7.121088565960491, 10.96654996231499, 3.5436311102981812, 3.3180922738962133, 2.695022359858259, 1.3851265801198025, 0.8602158429612075, 1.308045446044893, 1.1286235320789446, 2.496960816874522, 0.6931214803547835, 1.7489945930049338, 1.669651820022197, 72.4592426794731, 62.97337241322734, 40.05357058410969, 51.12075169734046, 28.34622021177168, 36.1794860430322, 31.377471052424756, 49.0314211050055, 16.36807662329786, 13.112824439776071, 11.023447689734601, 13.847314965293378, 18.79223923241852, 14.595558480495855, 31.197873423225104, 16.864089344383057, 6.077201405689116, 3.9928485708020456, 6.224552859744843, 3.569387987790971, 1.6787296968736913, 1.4907333719448073, 2.048179868118369, 1.2375609857002978, 0.839900177489599, 1.628526167037969, 0.5859607956599006, 0.3927034329022407, 0.45213549375609424, 0.9424394598021594, 156.39839679294732, 77.92586134035152, 31.238100576453725, 22.109784625198596, 23.804883467430855, 23.54977060617391, 19.474735973035894, 16.89021125973303, 19.950290159844336, 17.450232669625077, 13.612898524202633, 8.618233491327802, 18.429141944067005, 9.4172168956004, 18.774162027180505, 7.52128430203331, 4.918625927860914, 9.940476528853942, 17.91936192737797, 4.425855856128088, 2.437173671191944, 2.404422500817788, 1.8715826795276442, 0.9101740741448417, 0.5352886539491961, 0.781297812065718, 0.8089560099236867, 0.39855623599763285, 1.0844669390009942, 0.2615785492645235, 84.00727115531416, 49.78842673718617, 63.2361399265761, 37.78907582225572, 38.93659298986371, 17.098157404029934, 24.321376315533705, 9.213217487064574, 7.375401126234864, 8.302837594759362, 46.790413077821704, 7.619778528391374, 10.55988025611433, 9.139604025755666, 9.663018625296623, 5.768711447258079, 3.4555827815546327, 1.8656067884371852, 1.1731529184352472, 1.5581092783049704, 0.8572032951138114, 0.6619317251093423, 1.3282105815851846, 0.4897562258278298, 0.4141410310833309, 0.42643510070101165, 0.2130836507359842, 0.2118694065056659, 0.21456064941318365, 0.4553818801153758, 0.3832302444304132], \"Total\": [212.0, 89.0, 234.0, 134.0, 77.0, 86.0, 153.0, 59.0, 132.0, 95.0, 156.0, 84.0, 78.0, 71.0, 100.0, 69.0, 88.0, 129.0, 90.0, 87.0, 60.0, 59.0, 55.0, 52.0, 64.0, 359.0, 72.0, 55.0, 95.0, 65.0, 55.38876202983775, 234.3491410666916, 156.92389162722924, 65.60170304000657, 95.1059893306487, 359.2712132933014, 129.5856481981433, 87.73256149309745, 78.42384695344549, 64.89262514675409, 90.97495179856143, 60.37107281127212, 55.459295783273596, 95.7071826286951, 88.71844660705344, 59.90542102812628, 212.32120778723367, 153.0069342608165, 72.24688242513969, 59.94650096380741, 65.16701511912063, 77.44353057074532, 71.16020697096509, 100.02134631746077, 52.47870216080515, 69.68320445454087, 134.7784118774812, 132.23498709284894, 89.26763598963069, 86.18513469957276, 84.64647525231459, 134.7784118774812, 71.16020697096509, 153.0069342608165, 52.47870216080515, 88.71844660705344, 65.16701511912063, 100.02134631746077, 90.97495179856143, 64.89262514675409, 69.68320445454087, 59.90542102812628, 359.2712132933014, 95.1059893306487, 65.60170304000657, 72.24688242513969, 132.23498709284894, 78.42384695344549, 129.5856481981433, 55.459295783273596, 77.44353057074532, 86.18513469957276, 55.38876202983775, 59.94650096380741, 95.7071826286951, 89.26763598963069, 212.32120778723367, 60.37107281127212, 156.92389162722924, 234.3491410666916, 86.18513469957276, 95.7071826286951, 69.68320445454087, 100.02134631746077, 60.37107281127212, 90.97495179856143, 87.73256149309745, 153.0069342608165, 52.47870216080515, 72.24688242513969, 65.16701511912063, 84.64647525231459, 129.5856481981433, 132.23498709284894, 359.2712132933014, 212.32120778723367, 95.1059893306487, 65.60170304000657, 134.7784118774812, 77.44353057074532, 55.459295783273596, 64.89262514675409, 89.26763598963069, 55.38876202983775, 71.16020697096509, 156.92389162722924, 78.42384695344549, 59.94650096380741, 88.71844660705344, 234.3491410666916, 212.32120778723367, 132.23498709284894, 59.90542102812628, 55.459295783273596, 64.89262514675409, 72.24688242513969, 65.16701511912063, 71.16020697096509, 88.71844660705344, 87.73256149309745, 69.68320445454087, 60.37107281127212, 134.7784118774812, 86.18513469957276, 234.3491410666916, 100.02134631746077, 65.60170304000657, 156.92389162722924, 359.2712132933014, 129.5856481981433, 84.64647525231459, 95.7071826286951, 90.97495179856143, 52.47870216080515, 59.94650096380741, 89.26763598963069, 95.1059893306487, 55.38876202983775, 153.0069342608165, 77.44353057074532, 89.26763598963069, 59.94650096380741, 77.44353057074532, 78.42384695344549, 129.5856481981433, 72.24688242513969, 132.23498709284894, 55.459295783273596, 52.47870216080515, 59.90542102812628, 359.2712132933014, 65.16701511912063, 95.1059893306487, 88.71844660705344, 100.02134631746077, 134.7784118774812, 84.64647525231459, 95.7071826286951, 87.73256149309745, 156.92389162722924, 90.97495179856143, 71.16020697096509, 153.0069342608165, 64.89262514675409, 69.68320445454087, 86.18513469957276, 55.38876202983775, 60.37107281127212, 65.60170304000657, 212.32120778723367, 234.3491410666916], \"Category\": [\"Default\", \"Default\", \"Default\", \"Default\", \"Default\", \"Default\", \"Default\", \"Default\", \"Default\", \"Default\", \"Default\", \"Default\", \"Default\", \"Default\", \"Default\", \"Default\", \"Default\", \"Default\", \"Default\", \"Default\", \"Default\", \"Default\", \"Default\", \"Default\", \"Default\", \"Default\", \"Default\", \"Default\", \"Default\", \"Default\", \"Topic1\", \"Topic1\", \"Topic1\", \"Topic1\", \"Topic1\", \"Topic1\", \"Topic1\", \"Topic1\", \"Topic1\", \"Topic1\", \"Topic1\", \"Topic1\", \"Topic1\", \"Topic1\", \"Topic1\", \"Topic1\", \"Topic1\", \"Topic1\", \"Topic1\", \"Topic1\", \"Topic1\", \"Topic1\", \"Topic1\", \"Topic1\", \"Topic1\", \"Topic1\", \"Topic1\", \"Topic1\", \"Topic1\", \"Topic1\", \"Topic2\", \"Topic2\", \"Topic2\", \"Topic2\", \"Topic2\", \"Topic2\", \"Topic2\", \"Topic2\", \"Topic2\", \"Topic2\", \"Topic2\", \"Topic2\", \"Topic2\", \"Topic2\", \"Topic2\", \"Topic2\", \"Topic2\", \"Topic2\", \"Topic2\", \"Topic2\", \"Topic2\", \"Topic2\", \"Topic2\", \"Topic2\", \"Topic2\", \"Topic2\", \"Topic2\", \"Topic2\", \"Topic2\", \"Topic2\", \"Topic3\", \"Topic3\", \"Topic3\", \"Topic3\", \"Topic3\", \"Topic3\", \"Topic3\", \"Topic3\", \"Topic3\", \"Topic3\", \"Topic3\", \"Topic3\", \"Topic3\", \"Topic3\", \"Topic3\", \"Topic3\", \"Topic3\", \"Topic3\", \"Topic3\", \"Topic3\", \"Topic3\", \"Topic3\", \"Topic3\", \"Topic3\", \"Topic3\", \"Topic3\", \"Topic3\", \"Topic3\", \"Topic3\", \"Topic3\", \"Topic4\", \"Topic4\", \"Topic4\", \"Topic4\", \"Topic4\", \"Topic4\", \"Topic4\", \"Topic4\", \"Topic4\", \"Topic4\", \"Topic4\", \"Topic4\", \"Topic4\", \"Topic4\", \"Topic4\", \"Topic4\", \"Topic4\", \"Topic4\", \"Topic4\", \"Topic4\", \"Topic4\", \"Topic4\", \"Topic4\", \"Topic4\", \"Topic4\", \"Topic4\", \"Topic4\", \"Topic4\", \"Topic4\", \"Topic4\", \"Topic5\", \"Topic5\", \"Topic5\", \"Topic5\", \"Topic5\", \"Topic5\", \"Topic5\", \"Topic5\", \"Topic5\", \"Topic5\", \"Topic5\", \"Topic5\", \"Topic5\", \"Topic5\", \"Topic5\", \"Topic5\", \"Topic5\", \"Topic5\", \"Topic5\", \"Topic5\", \"Topic5\", \"Topic5\", \"Topic5\", \"Topic5\", \"Topic5\", \"Topic5\", \"Topic5\", \"Topic5\", \"Topic5\", \"Topic5\", \"Topic5\"], \"logprob\": [30.0, 29.0, 28.0, 27.0, 26.0, 25.0, 24.0, 23.0, 22.0, 21.0, 20.0, 19.0, 18.0, 17.0, 16.0, 15.0, 14.0, 13.0, 12.0, 11.0, 10.0, 9.0, 8.0, 7.0, 6.0, 5.0, 4.0, 3.0, 2.0, 1.0, -3.0874, -1.6823, -2.0855, -3.1315, -2.8516, -1.6733, -3.008, -3.4182, -3.5552, -3.7628, -3.505, -3.9281, -4.1018, -3.7401, -4.18, -4.6609, -3.4552, -3.824, -4.5757, -4.917, -4.9013, -5.0874, -5.4837, -5.4085, -6.0565, -6.1534, -5.868, -5.895, -6.7775, -6.87, -2.2055, -1.746, -2.4907, -2.0238, -3.1376, -2.6321, -3.442, -3.0815, -3.4878, -3.8316, -3.7842, -4.1276, -2.4735, -3.9086, -4.4802, -4.4585, -3.8572, -4.3992, -3.9674, -5.0971, -5.1629, -5.3709, -6.0365, -6.5129, -6.0938, -6.2413, -5.4472, -6.7288, -5.8033, -5.8497, -2.0062, -2.1465, -2.599, -2.355, -2.9447, -2.7007, -2.8431, -2.3967, -3.4938, -3.7156, -3.8892, -3.6611, -3.3557, -3.6085, -2.8488, -3.464, -4.4846, -4.9047, -4.4607, -5.0168, -5.7711, -5.8899, -5.5722, -6.076, -6.4637, -5.8015, -6.8237, -7.2239, -7.083, -6.3485, -1.2282, -1.9249, -2.839, -3.1846, -3.1107, -3.1215, -3.3115, -3.4539, -3.2874, -3.4213, -3.6696, -4.1267, -3.3667, -4.0381, -3.3481, -4.2629, -4.6876, -3.984, -3.3947, -4.7932, -5.3898, -5.4033, -5.6538, -6.3747, -6.9056, -6.5274, -6.4926, -7.2005, -6.1995, -7.6216, -1.6634, -2.1865, -1.9474, -2.4623, -2.4324, -3.2553, -2.9029, -3.8736, -4.0961, -3.9777, -2.2486, -4.0635, -3.7372, -3.8817, -3.826, -4.3418, -4.8543, -5.4707, -5.9346, -5.6508, -6.2484, -6.5069, -5.8105, -6.8081, -6.9758, -6.9466, -7.6404, -7.6461, -7.6335, -6.8809, -7.0534], \"loglift\": [30.0, 29.0, 28.0, 27.0, 26.0, 25.0, 24.0, 23.0, 22.0, 21.0, 20.0, 19.0, 18.0, 17.0, 16.0, 15.0, 14.0, 13.0, 12.0, 11.0, 10.0, 9.0, 8.0, 7.0, 6.0, 5.0, 4.0, 3.0, 2.0, 1.0, 0.9812, 0.9439, 0.9418, 0.768, 0.6765, 0.5257, 0.2106, 0.1905, 0.1657, 0.1475, 0.0674, 0.0544, -0.0344, -0.2183, -0.5824, -0.6706, -0.7303, -0.7715, -0.7728, -0.9274, -0.9952, -1.354, -1.6656, -1.9308, -1.9338, -2.3143, -2.6886, -2.6965, -3.1862, -3.2435, 1.439, 1.4334, 1.3274, 1.0288, 0.985, 0.9654, 0.4641, 0.3961, 0.0846, 0.0787, 0.0548, -0.1373, -0.2746, -0.3806, -0.5808, -0.6556, -0.6588, -0.6783, -0.7488, -1.0298, -1.4294, -1.7444, -1.9679, -2.5233, -2.572, -2.6499, -2.7223, -2.7463, -2.776, -3.2235, 1.6204, 1.3753, 1.2401, 1.1226, 1.0378, 0.8717, 0.7656, 0.6558, 0.6288, 0.0873, 0.0169, -0.0166, -0.1371, -0.41, -0.6499, -0.7391, -0.9566, -1.0053, -1.2813, -1.2833, -1.7038, -1.9796, -1.9808, -2.0074, -2.6456, -2.7742, -3.1028, -3.2343, -3.4854, -3.7223, 1.4967, 1.2736, 1.1513, 0.8828, 0.7996, 0.6814, 0.5946, 0.3642, 0.3102, 0.1875, 0.1695, -0.1442, -0.1873, -0.4116, -0.7219, -0.7853, -0.7882, -0.9567, -1.1958, -1.5745, -1.7452, -1.8816, -2.0814, -2.2521, -2.916, -2.936, -2.9646, -3.1319, -3.147, -3.8882, 1.928, 1.8031, 1.7861, 1.2586, 0.7863, 0.5476, 0.2955, 0.1937, 0.0265, 0.0126, -0.0497, -0.1575, -0.2092, -0.2841, -0.3483, -1.1625, -1.2098, -1.949, -2.3259, -2.6236, -2.6759, -2.6888, -2.7579, -2.8978, -3.1368, -3.3201, -3.5717, -3.6636, -3.734, -4.156, -4.4272]}, \"token.table\": {\"Topic\": [1, 2, 3, 4, 5, 1, 2, 3, 4, 1, 2, 3, 4, 1, 2, 3, 4, 5, 1, 2, 3, 4, 5, 1, 2, 3, 4, 5, 1, 2, 3, 4, 1, 2, 3, 4, 5, 1, 2, 3, 1, 2, 3, 4, 5, 1, 2, 3, 4, 5, 1, 2, 4, 5, 1, 2, 3, 4, 5, 1, 2, 3, 4, 5, 1, 2, 3, 4, 5, 1, 2, 3, 4, 5, 1, 2, 3, 4, 5, 1, 2, 3, 4, 5, 1, 2, 3, 5, 1, 2, 3, 4, 5, 1, 2, 4, 5, 1, 2, 3, 4, 5, 1, 2, 3, 4, 5, 1, 2, 3, 4, 1, 3, 4, 5, 1, 2, 3, 4, 5, 1, 2, 3, 4, 1, 2, 3, 5, 1, 2, 4, 5, 1, 2, 3, 4, 1, 2, 3, 4], \"Freq\": [0.43214662100831597, 0.08488594341234779, 0.14662117498496435, 0.030867615786308283, 0.3009592539165058, 0.38097716222305694, 0.016564224444480736, 0.4637982844454606, 0.14907802000032663, 0.16955442357918138, 0.00941969019884341, 0.08006736669016898, 0.7347358355097859, 0.022258757602271764, 0.7493781726098161, 0.04451751520454353, 0.13355254561363059, 0.04451751520454353, 0.16609713246013186, 0.09688999393507693, 0.17993856016514287, 0.3321942649202637, 0.2353042709851868, 0.04998932911910973, 0.26994237724319253, 0.5098911570149192, 0.07998292659057556, 0.09997865823821946, 0.011602929014218473, 0.034808787042655415, 0.8354108890237301, 0.10442636112796626, 0.0118138410018751, 0.7560858241200064, 0.16539377402625138, 0.0236276820037502, 0.0354415230056253, 0.9388185995561296, 0.018054203837617876, 0.018054203837617876, 0.022686885414777154, 0.09074754165910862, 0.11343442707388578, 0.589859020784206, 0.18149508331821723, 0.37372924445492955, 0.19785665882908035, 0.3957133176581607, 0.02198407320323115, 0.010992036601615575, 0.18362278089716413, 0.15023682073404337, 0.5174823825283716, 0.133543840652483, 0.16339128759605662, 0.5032451657958544, 0.320246923688271, 0.006535651503842265, 0.006535651503842265, 0.28211048803671307, 0.010448536593952337, 0.6582578054189971, 0.020897073187904673, 0.020897073187904673, 0.6939626038749481, 0.12617501888635418, 0.06308750944317709, 0.010514584907196183, 0.11566043397915801, 0.057166047872285505, 0.4763837322690459, 0.30488558865218934, 0.019055349290761834, 0.13338744503533284, 0.5984336958955812, 0.1363872144134115, 0.08628578871052565, 0.050101425702885866, 0.1308203893353131, 0.13810667841006136, 0.29155854331012954, 0.168797051390075, 0.29155854331012954, 0.12276149192005455, 0.42079037540188113, 0.08925856447918691, 0.012751223497026702, 0.4845464928870146, 0.34259360368096053, 0.07212496919599169, 0.036062484597995846, 0.3966873305779543, 0.1622811806909813, 0.1334523261804719, 0.016681540772558987, 0.016681540772558987, 0.8340770386279495, 0.07026398900216954, 0.6745342944208277, 0.014052797800433909, 0.23889756260737646, 0.014052797800433909, 0.9048972627910556, 0.01274503187029656, 0.01274503187029656, 0.06372515935148279, 0.01274503187029656, 0.9089002802847226, 0.008534274932250917, 0.004267137466125458, 0.0810756118563837, 0.4217362330508389, 0.35334657363718935, 0.19377070167200705, 0.011398276568941592, 0.011202268200719012, 0.011202268200719012, 0.022404536401438024, 0.011202268200719012, 0.9409905288603971, 0.02870132072219407, 0.18655858469426145, 0.5740264144438814, 0.20090924505535848, 0.09038844107972893, 0.038737903319883825, 0.05165053775984511, 0.8134959697175604, 0.1916174217442671, 0.47340774783877754, 0.22543226087560833, 0.10144451739402376, 0.7621753351358573, 0.10670454691902004, 0.06097402681086859, 0.07621753351358573, 0.41607193327346126, 0.20033093083537024, 0.015410071602720787, 0.3698417184652989], \"Term\": [\"!\", \"!\", \"!\", \"!\", \"!\", \"&\", \"&\", \"&\", \"&\", \",\", \",\", \",\", \",\", \"-\", \"-\", \"-\", \"-\", \"-\", \".\", \".\", \".\", \".\", \".\", \"/\", \"/\", \"/\", \"/\", \"/\", \"1\", \"1\", \"1\", \"1\", \"2\", \"2\", \"2\", \"2\", \"2\", \"and\", \"and\", \"and\", \"apartment\", \"apartment\", \"apartment\", \"apartment\", \"apartment\", \"apt\", \"apt\", \"apt\", \"apt\", \"apt\", \"beautiful\", \"beautiful\", \"beautiful\", \"beautiful\", \"bedroom\", \"bedroom\", \"bedroom\", \"bedroom\", \"bedroom\", \"brooklyn\", \"brooklyn\", \"brooklyn\", \"brooklyn\", \"brooklyn\", \"cozy\", \"cozy\", \"cozy\", \"cozy\", \"cozy\", \"east\", \"east\", \"east\", \"east\", \"east\", \"in\", \"in\", \"in\", \"in\", \"in\", \"large\", \"large\", \"large\", \"large\", \"large\", \"manhattan\", \"manhattan\", \"manhattan\", \"manhattan\", \"near\", \"near\", \"near\", \"near\", \"near\", \"of\", \"of\", \"of\", \"of\", \"park\", \"park\", \"park\", \"park\", \"park\", \"private\", \"private\", \"private\", \"private\", \"private\", \"room\", \"room\", \"room\", \"room\", \"spacious\", \"spacious\", \"spacious\", \"spacious\", \"studio\", \"studio\", \"studio\", \"studio\", \"studio\", \"sunny\", \"sunny\", \"sunny\", \"sunny\", \"the\", \"the\", \"the\", \"the\", \"to\", \"to\", \"to\", \"to\", \"williamsburg\", \"williamsburg\", \"williamsburg\", \"williamsburg\", \"with\", \"with\", \"with\", \"with\"]}, \"R\": 30, \"lambda.step\": 0.01, \"plot.opts\": {\"xlab\": \"PC1\", \"ylab\": \"PC2\"}, \"topic.order\": [1, 3, 4, 5, 2]};\n",
       "\n",
       "function LDAvis_load_lib(url, callback){\n",
       "  var s = document.createElement('script');\n",
       "  s.src = url;\n",
       "  s.async = true;\n",
       "  s.onreadystatechange = s.onload = callback;\n",
       "  s.onerror = function(){console.warn(\"failed to load library \" + url);};\n",
       "  document.getElementsByTagName(\"head\")[0].appendChild(s);\n",
       "}\n",
       "\n",
       "if(typeof(LDAvis) !== \"undefined\"){\n",
       "   // already loaded: just create the visualization\n",
       "   !function(LDAvis){\n",
       "       new LDAvis(\"#\" + \"ldavis_el132261891733281177469416\", ldavis_el132261891733281177469416_data);\n",
       "   }(LDAvis);\n",
       "}else if(typeof define === \"function\" && define.amd){\n",
       "   // require.js is available: use it to load d3/LDAvis\n",
       "   require.config({paths: {d3: \"https://d3js.org/d3.v5\"}});\n",
       "   require([\"d3\"], function(d3){\n",
       "      window.d3 = d3;\n",
       "      LDAvis_load_lib(\"https://cdn.jsdelivr.net/gh/bmabey/pyLDAvis@3.4.0/pyLDAvis/js/ldavis.v3.0.0.js\", function(){\n",
       "        new LDAvis(\"#\" + \"ldavis_el132261891733281177469416\", ldavis_el132261891733281177469416_data);\n",
       "      });\n",
       "    });\n",
       "}else{\n",
       "    // require.js not available: dynamically load d3 & LDAvis\n",
       "    LDAvis_load_lib(\"https://d3js.org/d3.v5.js\", function(){\n",
       "         LDAvis_load_lib(\"https://cdn.jsdelivr.net/gh/bmabey/pyLDAvis@3.4.0/pyLDAvis/js/ldavis.v3.0.0.js\", function(){\n",
       "                 new LDAvis(\"#\" + \"ldavis_el132261891733281177469416\", ldavis_el132261891733281177469416_data);\n",
       "            })\n",
       "         });\n",
       "}\n",
       "</script>"
      ],
      "text/plain": [
       "<IPython.core.display.HTML object>"
      ]
     },
     "execution_count": 17,
     "metadata": {},
     "output_type": "execute_result"
    }
   ],
   "source": [
    "lda_display = gensimvis.prepare(ldamod, corpus_fromdict, text_raw_dict)\n",
    "pyLDAvis.display(lda_display)"
   ]
  },
  {
   "cell_type": "markdown",
   "metadata": {},
   "source": [
    "## 3.4 Activity 3\n",
    "\n",
    "- Preprocess the texts if you haven't already\n",
    "- Run the topic model with preprocessed texts\n",
    "- Play around with other parameters like `n_topics` to find a configuration that produces useful topics\n",
    "\n",
    "If you get stuck on the preprocessing part, you can use below function and example code for applying it. Then continue as above (start with tokenizing)."
   ]
  },
  {
   "cell_type": "code",
   "execution_count": null,
   "metadata": {},
   "outputs": [],
   "source": [
    "# your code here\n"
   ]
  },
  {
   "cell_type": "code",
   "execution_count": null,
   "metadata": {},
   "outputs": [],
   "source": [
    "# Hint: example code for preprocessing\n",
    "def processtext(row, colname):\n",
    "    \n",
    "    string_of_col = str(row[colname])\n",
    "    try:\n",
    "        processed_string = \" \".join([porter.stem(i.lower()) \n",
    "                        for i in wordpunct_tokenize(string_of_col) if \n",
    "                        i.lower().isalpha() and len(i) >=3]) #and i not in punctlist]) # optional: remove punctuation too \n",
    "        return(processed_string)\n",
    "    except:\n",
    "        processed_string = \"\" # to handle data errors where not actually text\n",
    "        return(processed_string)\n",
    "\n",
    "# ab_small['text_preprocess'] = ab_small.apply(processtext,\n",
    "#                             axis = 1,\n",
    "#                             args = [\"name_lower\"])\n",
    "#\n",
    "# ab_small = ab_small[ab_small.text_preprocess != \"\"].copy()\n",
    "#\n",
    "# ab_small.head()"
   ]
  }
 ],
 "metadata": {
  "kernelspec": {
   "display_name": "Python 3 (ipykernel)",
   "language": "python",
   "name": "python3"
  },
  "language_info": {
   "codemirror_mode": {
    "name": "ipython",
    "version": 3
   },
   "file_extension": ".py",
   "mimetype": "text/x-python",
   "name": "python",
   "nbconvert_exporter": "python",
   "pygments_lexer": "ipython3",
   "version": "3.11.7"
  }
 },
 "nbformat": 4,
 "nbformat_minor": 4
}
